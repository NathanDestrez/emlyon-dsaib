{
 "cells": [
  {
   "cell_type": "code",
   "execution_count": 10,
   "id": "2cdc3e30",
   "metadata": {},
   "outputs": [],
   "source": [
    "def add_one(x):# x is an integer\n",
    "    '''This fucntion increment input value with 1.\n",
    "    ''' # use for the help function\n",
    "    return x+1."
   ]
  },
  {
   "cell_type": "code",
   "execution_count": 6,
   "id": "8951e066",
   "metadata": {},
   "outputs": [
    {
     "data": {
      "text/plain": [
       "2.0"
      ]
     },
     "execution_count": 6,
     "metadata": {},
     "output_type": "execute_result"
    }
   ],
   "source": [
    "add_one(1)"
   ]
  },
  {
   "cell_type": "code",
   "execution_count": 7,
   "id": "5bc3e182",
   "metadata": {},
   "outputs": [
    {
     "data": {
      "text/plain": [
       "6.2"
      ]
     },
     "execution_count": 7,
     "metadata": {},
     "output_type": "execute_result"
    }
   ],
   "source": [
    "add_one(5.2)"
   ]
  },
  {
   "cell_type": "code",
   "execution_count": 9,
   "id": "5da5f131",
   "metadata": {},
   "outputs": [
    {
     "name": "stdout",
     "output_type": "stream",
     "text": [
      "Help on function add_one in module __main__:\n",
      "\n",
      "add_one(x)\n",
      "    This fucntion increment input value with 1.\n",
      "\n"
     ]
    }
   ],
   "source": [
    "help(add_one)"
   ]
  },
  {
   "cell_type": "code",
   "execution_count": 13,
   "id": "42018d64",
   "metadata": {},
   "outputs": [],
   "source": [
    "def myfunc() :\n",
    "    pass # Do nothing"
   ]
  },
  {
   "cell_type": "code",
   "execution_count": 12,
   "id": "2589083f",
   "metadata": {},
   "outputs": [],
   "source": [
    "myfunc()"
   ]
  },
  {
   "cell_type": "markdown",
   "id": "50a8e76a",
   "metadata": {},
   "source": [
    "***Functions as Arguments***"
   ]
  },
  {
   "cell_type": "code",
   "execution_count": 18,
   "id": "a5652163",
   "metadata": {},
   "outputs": [],
   "source": [
    "def apply_one_func_arg(func): #func is a function\n",
    "    return add_one(func(2))"
   ]
  },
  {
   "cell_type": "code",
   "execution_count": 16,
   "id": "ab26ba6b",
   "metadata": {},
   "outputs": [],
   "source": [
    "def fonc_as_arg(x): #x is a float\n",
    "    return 2*x"
   ]
  },
  {
   "cell_type": "code",
   "execution_count": 19,
   "id": "d1c285e2",
   "metadata": {},
   "outputs": [
    {
     "data": {
      "text/plain": [
       "5.0"
      ]
     },
     "execution_count": 19,
     "metadata": {},
     "output_type": "execute_result"
    }
   ],
   "source": [
    "apply_one_func_arg(fonc_as_arg)"
   ]
  },
  {
   "cell_type": "code",
   "execution_count": 20,
   "id": "0c9dfda7",
   "metadata": {},
   "outputs": [
    {
     "data": {
      "text/plain": [
       "4"
      ]
     },
     "execution_count": 20,
     "metadata": {},
     "output_type": "execute_result"
    }
   ],
   "source": [
    "fonc_as_arg(2)"
   ]
  },
  {
   "cell_type": "code",
   "execution_count": 21,
   "id": "3df9e84a",
   "metadata": {},
   "outputs": [
    {
     "data": {
      "text/plain": [
       "5.0"
      ]
     },
     "execution_count": 21,
     "metadata": {},
     "output_type": "execute_result"
    }
   ],
   "source": [
    "apply_one_func_arg(fonc_as_arg)"
   ]
  },
  {
   "cell_type": "markdown",
   "id": "08133fd4",
   "metadata": {},
   "source": [
    "***Arguments with defaults value***"
   ]
  },
  {
   "cell_type": "markdown",
   "id": "477e5fa4",
   "metadata": {},
   "source": [
    "lets consider : *f(x)= 2x + 3*"
   ]
  },
  {
   "cell_type": "code",
   "execution_count": 22,
   "id": "ac25eea4",
   "metadata": {},
   "outputs": [],
   "source": [
    "def affine1(x) :#x in float\n",
    "    return 2*x+3"
   ]
  },
  {
   "cell_type": "code",
   "execution_count": 23,
   "id": "13e0f1fd",
   "metadata": {},
   "outputs": [
    {
     "data": {
      "text/plain": [
       "9"
      ]
     },
     "execution_count": 23,
     "metadata": {},
     "output_type": "execute_result"
    }
   ],
   "source": [
    "affine1(3) # can work with an integer but not with func"
   ]
  },
  {
   "cell_type": "markdown",
   "id": "25ce4bf3",
   "metadata": {},
   "source": [
    "on the same model, it is possible to parametrize the coefficients of the function and give the values A and B default values.\n",
    "let the function *f(x) = Ax + B"
   ]
  },
  {
   "cell_type": "code",
   "execution_count": 25,
   "id": "8144f209",
   "metadata": {},
   "outputs": [],
   "source": [
    "def affine2(x, alfa=2., beta=3.): # x in float\n",
    "    return alfa*x+beta"
   ]
  },
  {
   "cell_type": "code",
   "execution_count": 26,
   "id": "c9c114fe",
   "metadata": {},
   "outputs": [
    {
     "data": {
      "text/plain": [
       "9.0"
      ]
     },
     "execution_count": 26,
     "metadata": {},
     "output_type": "execute_result"
    }
   ],
   "source": [
    "affine2(3)"
   ]
  },
  {
   "cell_type": "code",
   "execution_count": 27,
   "id": "fd6df992",
   "metadata": {},
   "outputs": [
    {
     "data": {
      "text/plain": [
       "0.0"
      ]
     },
     "execution_count": 27,
     "metadata": {},
     "output_type": "execute_result"
    }
   ],
   "source": [
    "affine2(3, alfa=-1)"
   ]
  },
  {
   "cell_type": "code",
   "execution_count": 29,
   "id": "aa0c2479",
   "metadata": {},
   "outputs": [
    {
     "data": {
      "text/plain": [
       "1"
      ]
     },
     "execution_count": 29,
     "metadata": {},
     "output_type": "execute_result"
    }
   ],
   "source": [
    "affine2(3, alfa=-1, beta=4.)"
   ]
  },
  {
   "cell_type": "markdown",
   "id": "efc50e26",
   "metadata": {},
   "source": [
    "***Lambda function***"
   ]
  },
  {
   "cell_type": "code",
   "execution_count": 32,
   "id": "f01bc85f",
   "metadata": {},
   "outputs": [],
   "source": [
    "def apply_one(func):\n",
    "    return add_one(func(2))"
   ]
  },
  {
   "cell_type": "code",
   "execution_count": 33,
   "id": "9bf60b93",
   "metadata": {},
   "outputs": [
    {
     "data": {
      "text/plain": [
       "5.0"
      ]
     },
     "execution_count": 33,
     "metadata": {},
     "output_type": "execute_result"
    }
   ],
   "source": [
    "y = lambda x: 2*x\n",
    "add_one(y(2.))"
   ]
  },
  {
   "cell_type": "code",
   "execution_count": 34,
   "id": "9573ee68",
   "metadata": {},
   "outputs": [
    {
     "data": {
      "text/plain": [
       "5.0"
      ]
     },
     "execution_count": 34,
     "metadata": {},
     "output_type": "execute_result"
    }
   ],
   "source": [
    "add_one(y(2.))"
   ]
  },
  {
   "cell_type": "code",
   "execution_count": 35,
   "id": "ddd65080",
   "metadata": {},
   "outputs": [
    {
     "data": {
      "text/plain": [
       "5.0"
      ]
     },
     "execution_count": 35,
     "metadata": {},
     "output_type": "execute_result"
    }
   ],
   "source": [
    "apply_one(lambda x:2*x)"
   ]
  },
  {
   "cell_type": "code",
   "execution_count": 36,
   "id": "4b54392e",
   "metadata": {},
   "outputs": [
    {
     "data": {
      "text/plain": [
       "5.0"
      ]
     },
     "execution_count": 36,
     "metadata": {},
     "output_type": "execute_result"
    }
   ],
   "source": [
    "f = lambda x:2*x\n",
    "apply_one(f)"
   ]
  },
  {
   "cell_type": "code",
   "execution_count": 37,
   "id": "97d33d73",
   "metadata": {},
   "outputs": [
    {
     "data": {
      "text/plain": [
       "5.0"
      ]
     },
     "execution_count": 37,
     "metadata": {},
     "output_type": "execute_result"
    }
   ],
   "source": [
    "apply_one(f)#f is a function"
   ]
  },
  {
   "cell_type": "markdown",
   "id": "7473fe7d",
   "metadata": {},
   "source": [
    "***Modules***"
   ]
  },
  {
   "cell_type": "markdown",
   "id": "0cef6d22",
   "metadata": {},
   "source": [
    "***Import a module***"
   ]
  },
  {
   "cell_type": "code",
   "execution_count": 39,
   "id": "f10729ac",
   "metadata": {},
   "outputs": [],
   "source": [
    "import math"
   ]
  },
  {
   "cell_type": "markdown",
   "id": "9cad96bb",
   "metadata": {},
   "source": [
    "***Exploring a module***"
   ]
  },
  {
   "cell_type": "code",
   "execution_count": 40,
   "id": "69a57525",
   "metadata": {},
   "outputs": [
    {
     "data": {
      "text/plain": [
       "['__doc__',\n",
       " '__loader__',\n",
       " '__name__',\n",
       " '__package__',\n",
       " '__spec__',\n",
       " 'acos',\n",
       " 'acosh',\n",
       " 'asin',\n",
       " 'asinh',\n",
       " 'atan',\n",
       " 'atan2',\n",
       " 'atanh',\n",
       " 'ceil',\n",
       " 'comb',\n",
       " 'copysign',\n",
       " 'cos',\n",
       " 'cosh',\n",
       " 'degrees',\n",
       " 'dist',\n",
       " 'e',\n",
       " 'erf',\n",
       " 'erfc',\n",
       " 'exp',\n",
       " 'expm1',\n",
       " 'fabs',\n",
       " 'factorial',\n",
       " 'floor',\n",
       " 'fmod',\n",
       " 'frexp',\n",
       " 'fsum',\n",
       " 'gamma',\n",
       " 'gcd',\n",
       " 'hypot',\n",
       " 'inf',\n",
       " 'isclose',\n",
       " 'isfinite',\n",
       " 'isinf',\n",
       " 'isnan',\n",
       " 'isqrt',\n",
       " 'lcm',\n",
       " 'ldexp',\n",
       " 'lgamma',\n",
       " 'log',\n",
       " 'log10',\n",
       " 'log1p',\n",
       " 'log2',\n",
       " 'modf',\n",
       " 'nan',\n",
       " 'nextafter',\n",
       " 'perm',\n",
       " 'pi',\n",
       " 'pow',\n",
       " 'prod',\n",
       " 'radians',\n",
       " 'remainder',\n",
       " 'sin',\n",
       " 'sinh',\n",
       " 'sqrt',\n",
       " 'tan',\n",
       " 'tanh',\n",
       " 'tau',\n",
       " 'trunc',\n",
       " 'ulp']"
      ]
     },
     "execution_count": 40,
     "metadata": {},
     "output_type": "execute_result"
    }
   ],
   "source": [
    "dir(math)"
   ]
  },
  {
   "cell_type": "code",
   "execution_count": 42,
   "id": "52f04d2c",
   "metadata": {},
   "outputs": [
    {
     "name": "stdout",
     "output_type": "stream",
     "text": [
      "Help on built-in function remainder in module math:\n",
      "\n",
      "remainder(x, y, /)\n",
      "    Difference between x and the closest integer multiple of y.\n",
      "    \n",
      "    Return x - n*y where n*y is the closest integer multiple of y.\n",
      "    In the case where x is exactly halfway between two multiples of\n",
      "    y, the nearest even value of n is used. The result is always exact.\n",
      "\n"
     ]
    }
   ],
   "source": [
    "help(math.remainder)"
   ]
  },
  {
   "cell_type": "code",
   "execution_count": 43,
   "id": "66dc5382",
   "metadata": {},
   "outputs": [
    {
     "data": {
      "text/plain": [
       "3.141592653589793"
      ]
     },
     "execution_count": 43,
     "metadata": {},
     "output_type": "execute_result"
    }
   ],
   "source": [
    "math.pi"
   ]
  },
  {
   "cell_type": "code",
   "execution_count": 44,
   "id": "c50b1546",
   "metadata": {},
   "outputs": [
    {
     "data": {
      "text/plain": [
       "-0.4999999999999998"
      ]
     },
     "execution_count": 44,
     "metadata": {},
     "output_type": "execute_result"
    }
   ],
   "source": [
    "math.cos(2*math.pi/3.)"
   ]
  },
  {
   "cell_type": "markdown",
   "id": "1817eda6",
   "metadata": {},
   "source": [
    "And to verify a well-known trigonometrics relation: "
   ]
  },
  {
   "cell_type": "code",
   "execution_count": 45,
   "id": "a8b583ec",
   "metadata": {},
   "outputs": [
    {
     "data": {
      "text/plain": [
       "0.9999999999999999"
      ]
     },
     "execution_count": 45,
     "metadata": {},
     "output_type": "execute_result"
    }
   ],
   "source": [
    "alfa = 2*math.pi/3\n",
    "math.cos(alfa)**2 + math.sin(alfa)**2"
   ]
  },
  {
   "cell_type": "markdown",
   "id": "f34e3ae6",
   "metadata": {},
   "source": [
    "with a boolean expression:"
   ]
  },
  {
   "cell_type": "code",
   "execution_count": 46,
   "id": "f6835854",
   "metadata": {},
   "outputs": [
    {
     "data": {
      "text/plain": [
       "True"
      ]
     },
     "execution_count": 46,
     "metadata": {},
     "output_type": "execute_result"
    }
   ],
   "source": [
    "alfa = 2*math.pi/4\n",
    "1. == math.cos(alfa)**2 + math.sin(alfa)**2"
   ]
  },
  {
   "cell_type": "markdown",
   "id": "f55db49e",
   "metadata": {},
   "source": [
    "***The complex types***"
   ]
  },
  {
   "cell_type": "markdown",
   "id": "76c838de",
   "metadata": {},
   "source": [
    "The following types are widely used in data manipulation for data science purpose."
   ]
  },
  {
   "cell_type": "markdown",
   "id": "09087cf8",
   "metadata": {},
   "source": [
    "***String***"
   ]
  },
  {
   "cell_type": "markdown",
   "id": "c4668b81",
   "metadata": {},
   "source": [
    "Initialisation"
   ]
  },
  {
   "cell_type": "code",
   "execution_count": 47,
   "id": "2c7a18fe",
   "metadata": {},
   "outputs": [
    {
     "name": "stdout",
     "output_type": "stream",
     "text": [
      "\n",
      "0\n"
     ]
    }
   ],
   "source": [
    "mystr = str() #also available mystr=\"\" or mystr=''\n",
    "print(mystr)\n",
    "print(len(mystr))"
   ]
  },
  {
   "cell_type": "code",
   "execution_count": 49,
   "id": "d7e623d8",
   "metadata": {},
   "outputs": [
    {
     "name": "stdout",
     "output_type": "stream",
     "text": [
      "hello world!\n",
      "12\n"
     ]
    }
   ],
   "source": [
    "mystr = \"hello world!\"\n",
    "print(mystr)\n",
    "print(len(mystr))"
   ]
  },
  {
   "cell_type": "code",
   "execution_count": 50,
   "id": "fda42bd0",
   "metadata": {},
   "outputs": [
    {
     "data": {
      "text/plain": [
       "['__add__',\n",
       " '__class__',\n",
       " '__contains__',\n",
       " '__delattr__',\n",
       " '__dir__',\n",
       " '__doc__',\n",
       " '__eq__',\n",
       " '__format__',\n",
       " '__ge__',\n",
       " '__getattribute__',\n",
       " '__getitem__',\n",
       " '__getnewargs__',\n",
       " '__gt__',\n",
       " '__hash__',\n",
       " '__init__',\n",
       " '__init_subclass__',\n",
       " '__iter__',\n",
       " '__le__',\n",
       " '__len__',\n",
       " '__lt__',\n",
       " '__mod__',\n",
       " '__mul__',\n",
       " '__ne__',\n",
       " '__new__',\n",
       " '__reduce__',\n",
       " '__reduce_ex__',\n",
       " '__repr__',\n",
       " '__rmod__',\n",
       " '__rmul__',\n",
       " '__setattr__',\n",
       " '__sizeof__',\n",
       " '__str__',\n",
       " '__subclasshook__',\n",
       " 'capitalize',\n",
       " 'casefold',\n",
       " 'center',\n",
       " 'count',\n",
       " 'encode',\n",
       " 'endswith',\n",
       " 'expandtabs',\n",
       " 'find',\n",
       " 'format',\n",
       " 'format_map',\n",
       " 'index',\n",
       " 'isalnum',\n",
       " 'isalpha',\n",
       " 'isascii',\n",
       " 'isdecimal',\n",
       " 'isdigit',\n",
       " 'isidentifier',\n",
       " 'islower',\n",
       " 'isnumeric',\n",
       " 'isprintable',\n",
       " 'isspace',\n",
       " 'istitle',\n",
       " 'isupper',\n",
       " 'join',\n",
       " 'ljust',\n",
       " 'lower',\n",
       " 'lstrip',\n",
       " 'maketrans',\n",
       " 'partition',\n",
       " 'removeprefix',\n",
       " 'removesuffix',\n",
       " 'replace',\n",
       " 'rfind',\n",
       " 'rindex',\n",
       " 'rjust',\n",
       " 'rpartition',\n",
       " 'rsplit',\n",
       " 'rstrip',\n",
       " 'split',\n",
       " 'splitlines',\n",
       " 'startswith',\n",
       " 'strip',\n",
       " 'swapcase',\n",
       " 'title',\n",
       " 'translate',\n",
       " 'upper',\n",
       " 'zfill']"
      ]
     },
     "execution_count": 50,
     "metadata": {},
     "output_type": "execute_result"
    }
   ],
   "source": [
    "dir(mystr)"
   ]
  },
  {
   "cell_type": "code",
   "execution_count": 52,
   "id": "856960e0",
   "metadata": {},
   "outputs": [
    {
     "data": {
      "text/plain": [
       "'hello world'"
      ]
     },
     "execution_count": 52,
     "metadata": {},
     "output_type": "execute_result"
    }
   ],
   "source": [
    "'HELLO WORLD'.lower()"
   ]
  },
  {
   "cell_type": "code",
   "execution_count": 55,
   "id": "6f12c187",
   "metadata": {},
   "outputs": [
    {
     "data": {
      "text/plain": [
       "'HELLO WORLD'"
      ]
     },
     "execution_count": 55,
     "metadata": {},
     "output_type": "execute_result"
    }
   ],
   "source": [
    "'hello world'.upper()"
   ]
  },
  {
   "cell_type": "code",
   "execution_count": 56,
   "id": "979d0c2b",
   "metadata": {},
   "outputs": [
    {
     "data": {
      "text/plain": [
       "['__abs__',\n",
       " '__add__',\n",
       " '__and__',\n",
       " '__bool__',\n",
       " '__ceil__',\n",
       " '__class__',\n",
       " '__delattr__',\n",
       " '__dir__',\n",
       " '__divmod__',\n",
       " '__doc__',\n",
       " '__eq__',\n",
       " '__float__',\n",
       " '__floor__',\n",
       " '__floordiv__',\n",
       " '__format__',\n",
       " '__ge__',\n",
       " '__getattribute__',\n",
       " '__getnewargs__',\n",
       " '__gt__',\n",
       " '__hash__',\n",
       " '__index__',\n",
       " '__init__',\n",
       " '__init_subclass__',\n",
       " '__int__',\n",
       " '__invert__',\n",
       " '__le__',\n",
       " '__lshift__',\n",
       " '__lt__',\n",
       " '__mod__',\n",
       " '__mul__',\n",
       " '__ne__',\n",
       " '__neg__',\n",
       " '__new__',\n",
       " '__or__',\n",
       " '__pos__',\n",
       " '__pow__',\n",
       " '__radd__',\n",
       " '__rand__',\n",
       " '__rdivmod__',\n",
       " '__reduce__',\n",
       " '__reduce_ex__',\n",
       " '__repr__',\n",
       " '__rfloordiv__',\n",
       " '__rlshift__',\n",
       " '__rmod__',\n",
       " '__rmul__',\n",
       " '__ror__',\n",
       " '__round__',\n",
       " '__rpow__',\n",
       " '__rrshift__',\n",
       " '__rshift__',\n",
       " '__rsub__',\n",
       " '__rtruediv__',\n",
       " '__rxor__',\n",
       " '__setattr__',\n",
       " '__sizeof__',\n",
       " '__str__',\n",
       " '__sub__',\n",
       " '__subclasshook__',\n",
       " '__truediv__',\n",
       " '__trunc__',\n",
       " '__xor__',\n",
       " 'as_integer_ratio',\n",
       " 'bit_length',\n",
       " 'conjugate',\n",
       " 'denominator',\n",
       " 'from_bytes',\n",
       " 'imag',\n",
       " 'numerator',\n",
       " 'real',\n",
       " 'to_bytes']"
      ]
     },
     "execution_count": 56,
     "metadata": {},
     "output_type": "execute_result"
    }
   ],
   "source": [
    "dir(int)"
   ]
  },
  {
   "cell_type": "code",
   "execution_count": 58,
   "id": "f55e3b6d",
   "metadata": {
    "scrolled": true
   },
   "outputs": [
    {
     "name": "stdout",
     "output_type": "stream",
     "text": [
      "Help on getset descriptor builtins.int.real:\n",
      "\n",
      "real\n",
      "    the real part of a complex number\n",
      "\n"
     ]
    }
   ],
   "source": [
    "help(int.real)"
   ]
  },
  {
   "cell_type": "markdown",
   "id": "6b4c7eab",
   "metadata": {},
   "source": [
    "***List***"
   ]
  },
  {
   "cell_type": "code",
   "execution_count": 60,
   "id": "62ecaf98",
   "metadata": {},
   "outputs": [],
   "source": [
    "list_1 = list()\n",
    "list_1 = ()"
   ]
  },
  {
   "cell_type": "markdown",
   "id": "0bb4c1ee",
   "metadata": {},
   "source": [
    "a list is a collection of objects"
   ]
  },
  {
   "cell_type": "code",
   "execution_count": 66,
   "id": "f15dd276",
   "metadata": {},
   "outputs": [
    {
     "name": "stdout",
     "output_type": "stream",
     "text": [
      "[0, 1, 2, 3, 4, 5, 6, 7, 8, 9]\n",
      "['A', 'B', 2.5, 3, 4, 5, 6, 7, 8, 9]\n"
     ]
    }
   ],
   "source": [
    "list_int = [0,1,2,3,4,5,6,7,8,9]\n",
    "print(list_int)\n",
    "list_mixt = ['A','B',2.5,3,4,5,6,7,8,9]\n",
    "print(list_mixt)"
   ]
  },
  {
   "cell_type": "markdown",
   "id": "dbb8d570",
   "metadata": {},
   "source": [
    "We acces each of the values of a list with an index"
   ]
  },
  {
   "cell_type": "code",
   "execution_count": 63,
   "id": "efc06294",
   "metadata": {},
   "outputs": [
    {
     "data": {
      "text/plain": [
       "0"
      ]
     },
     "execution_count": 63,
     "metadata": {},
     "output_type": "execute_result"
    }
   ],
   "source": [
    "list_int[0]"
   ]
  },
  {
   "cell_type": "code",
   "execution_count": 64,
   "id": "49b256eb",
   "metadata": {},
   "outputs": [
    {
     "data": {
      "text/plain": [
       "3"
      ]
     },
     "execution_count": 64,
     "metadata": {},
     "output_type": "execute_result"
    }
   ],
   "source": [
    "list_int[3]"
   ]
  },
  {
   "cell_type": "code",
   "execution_count": 65,
   "id": "f80c249f",
   "metadata": {},
   "outputs": [
    {
     "data": {
      "text/plain": [
       "9"
      ]
     },
     "execution_count": 65,
     "metadata": {},
     "output_type": "execute_result"
    }
   ],
   "source": [
    "list_int[-1]"
   ]
  },
  {
   "cell_type": "code",
   "execution_count": 68,
   "id": "85060262",
   "metadata": {},
   "outputs": [
    {
     "data": {
      "text/plain": [
       "2.5"
      ]
     },
     "execution_count": 68,
     "metadata": {},
     "output_type": "execute_result"
    }
   ],
   "source": [
    "list_mixt[2]"
   ]
  },
  {
   "cell_type": "markdown",
   "id": "46327088",
   "metadata": {},
   "source": [
    "'Slicing' : range of values from a list"
   ]
  },
  {
   "cell_type": "code",
   "execution_count": 69,
   "id": "cde7c20d",
   "metadata": {},
   "outputs": [
    {
     "data": {
      "text/plain": [
       "[6, 7, 8]"
      ]
     },
     "execution_count": 69,
     "metadata": {},
     "output_type": "execute_result"
    }
   ],
   "source": [
    "list_int[6:-1]"
   ]
  },
  {
   "cell_type": "code",
   "execution_count": 70,
   "id": "4ab39960",
   "metadata": {},
   "outputs": [
    {
     "data": {
      "text/plain": [
       "[0, 1, 2, 3, 4]"
      ]
     },
     "execution_count": 70,
     "metadata": {},
     "output_type": "execute_result"
    }
   ],
   "source": [
    "list_int[:5]"
   ]
  },
  {
   "cell_type": "code",
   "execution_count": 71,
   "id": "306516cf",
   "metadata": {},
   "outputs": [
    {
     "data": {
      "text/plain": [
       "['__add__',\n",
       " '__class__',\n",
       " '__class_getitem__',\n",
       " '__contains__',\n",
       " '__delattr__',\n",
       " '__delitem__',\n",
       " '__dir__',\n",
       " '__doc__',\n",
       " '__eq__',\n",
       " '__format__',\n",
       " '__ge__',\n",
       " '__getattribute__',\n",
       " '__getitem__',\n",
       " '__gt__',\n",
       " '__hash__',\n",
       " '__iadd__',\n",
       " '__imul__',\n",
       " '__init__',\n",
       " '__init_subclass__',\n",
       " '__iter__',\n",
       " '__le__',\n",
       " '__len__',\n",
       " '__lt__',\n",
       " '__mul__',\n",
       " '__ne__',\n",
       " '__new__',\n",
       " '__reduce__',\n",
       " '__reduce_ex__',\n",
       " '__repr__',\n",
       " '__reversed__',\n",
       " '__rmul__',\n",
       " '__setattr__',\n",
       " '__setitem__',\n",
       " '__sizeof__',\n",
       " '__str__',\n",
       " '__subclasshook__',\n",
       " 'append',\n",
       " 'clear',\n",
       " 'copy',\n",
       " 'count',\n",
       " 'extend',\n",
       " 'index',\n",
       " 'insert',\n",
       " 'pop',\n",
       " 'remove',\n",
       " 'reverse',\n",
       " 'sort']"
      ]
     },
     "execution_count": 71,
     "metadata": {},
     "output_type": "execute_result"
    }
   ],
   "source": [
    "dir(list)"
   ]
  },
  {
   "cell_type": "code",
   "execution_count": 72,
   "id": "52109be8",
   "metadata": {},
   "outputs": [
    {
     "name": "stdout",
     "output_type": "stream",
     "text": [
      "[0, 1, 2, 3, 4, 5, 6, 7, 8, 9, 'A', 'B', 2.5, 3, 4, 5, 6, 7, 8, 9]\n"
     ]
    },
    {
     "data": {
      "text/plain": [
       "20"
      ]
     },
     "execution_count": 72,
     "metadata": {},
     "output_type": "execute_result"
    }
   ],
   "source": [
    "print(list_int + list_mixt)\n",
    "len(list_int + list_mixt)"
   ]
  },
  {
   "cell_type": "code",
   "execution_count": 74,
   "id": "c0b9cea0",
   "metadata": {},
   "outputs": [
    {
     "data": {
      "text/plain": [
       "[0, 1, 2, 3, 4, 5, 6, 7, 8, 9]"
      ]
     },
     "execution_count": 74,
     "metadata": {},
     "output_type": "execute_result"
    }
   ],
   "source": [
    "list_int[::]"
   ]
  },
  {
   "cell_type": "code",
   "execution_count": 75,
   "id": "ead37896",
   "metadata": {},
   "outputs": [
    {
     "data": {
      "text/plain": [
       "[0, 2, 4, 6, 8]"
      ]
     },
     "execution_count": 75,
     "metadata": {},
     "output_type": "execute_result"
    }
   ],
   "source": [
    "list_int[::2]"
   ]
  },
  {
   "cell_type": "code",
   "execution_count": 76,
   "id": "88eb1369",
   "metadata": {},
   "outputs": [
    {
     "data": {
      "text/plain": [
       "[0, 3, 6, 9]"
      ]
     },
     "execution_count": 76,
     "metadata": {},
     "output_type": "execute_result"
    }
   ],
   "source": [
    "list_int[::3]"
   ]
  },
  {
   "cell_type": "markdown",
   "id": "c6dcd825",
   "metadata": {},
   "source": [
    "slicingrow of list values by step, traversed in the opposite direction : the step is reversed."
   ]
  },
  {
   "cell_type": "code",
   "execution_count": 77,
   "id": "8ebe6194",
   "metadata": {},
   "outputs": [
    {
     "data": {
      "text/plain": [
       "[9, 8, 7, 6, 5, 4, 3, 2, 1, 0]"
      ]
     },
     "execution_count": 77,
     "metadata": {},
     "output_type": "execute_result"
    }
   ],
   "source": [
    "list_int[::-1]"
   ]
  },
  {
   "cell_type": "markdown",
   "id": "65a25814",
   "metadata": {},
   "source": [
    "algebra over list"
   ]
  },
  {
   "cell_type": "code",
   "execution_count": 78,
   "id": "32f44f2d",
   "metadata": {},
   "outputs": [
    {
     "data": {
      "text/plain": [
       "False"
      ]
     },
     "execution_count": 78,
     "metadata": {},
     "output_type": "execute_result"
    }
   ],
   "source": [
    "-1 in list_int"
   ]
  },
  {
   "cell_type": "code",
   "execution_count": 79,
   "id": "9bb41b01",
   "metadata": {},
   "outputs": [
    {
     "data": {
      "text/plain": [
       "True"
      ]
     },
     "execution_count": 79,
     "metadata": {},
     "output_type": "execute_result"
    }
   ],
   "source": [
    "7 in list_int"
   ]
  },
  {
   "cell_type": "code",
   "execution_count": 80,
   "id": "5e7943ef",
   "metadata": {},
   "outputs": [
    {
     "data": {
      "text/plain": [
       "[0, 1, 2, 3, 4, 5, 6, 7, 8, 9, 10, 11, 12]"
      ]
     },
     "execution_count": 80,
     "metadata": {},
     "output_type": "execute_result"
    }
   ],
   "source": [
    "list_int2 = [10,11,12]\n",
    "list_int+ list_int2"
   ]
  },
  {
   "cell_type": "code",
   "execution_count": 81,
   "id": "ed72a3d2",
   "metadata": {},
   "outputs": [
    {
     "data": {
      "text/plain": [
       "[0, 1, 2, 3, 4, 5, 6, 7, 8, 9, 10, 11, 12]"
      ]
     },
     "execution_count": 81,
     "metadata": {},
     "output_type": "execute_result"
    }
   ],
   "source": [
    "list_int.extend(list_int2)\n",
    "list_int"
   ]
  },
  {
   "cell_type": "code",
   "execution_count": 82,
   "id": "7eb4f463",
   "metadata": {},
   "outputs": [],
   "source": [
    "list_int.append(list_int[-1]+1)"
   ]
  },
  {
   "cell_type": "code",
   "execution_count": 83,
   "id": "514afc82",
   "metadata": {},
   "outputs": [
    {
     "data": {
      "text/plain": [
       "[0, 1, 2, 3, 4, 5, 6, 7, 8, 9, 10, 11, 12, 13]"
      ]
     },
     "execution_count": 83,
     "metadata": {},
     "output_type": "execute_result"
    }
   ],
   "source": [
    "list_int"
   ]
  },
  {
   "cell_type": "markdown",
   "id": "b6928039",
   "metadata": {},
   "source": [
    "Evaluate the lenght of a list"
   ]
  },
  {
   "cell_type": "code",
   "execution_count": 84,
   "id": "22bb8bf6",
   "metadata": {},
   "outputs": [
    {
     "data": {
      "text/plain": [
       "14"
      ]
     },
     "execution_count": 84,
     "metadata": {},
     "output_type": "execute_result"
    }
   ],
   "source": [
    "len(list_int)"
   ]
  },
  {
   "cell_type": "markdown",
   "id": "bdc0833f",
   "metadata": {},
   "source": [
    "Unpacking a list"
   ]
  },
  {
   "cell_type": "code",
   "execution_count": 85,
   "id": "62847b23",
   "metadata": {},
   "outputs": [
    {
     "data": {
      "text/plain": [
       "[10, 11, 12]"
      ]
     },
     "execution_count": 85,
     "metadata": {},
     "output_type": "execute_result"
    }
   ],
   "source": [
    "list_int2"
   ]
  },
  {
   "cell_type": "code",
   "execution_count": 87,
   "id": "f48980ce",
   "metadata": {},
   "outputs": [
    {
     "data": {
      "text/plain": [
       "(10, 11, 12)"
      ]
     },
     "execution_count": 87,
     "metadata": {},
     "output_type": "execute_result"
    }
   ],
   "source": [
    "i,j,k = list_int2\n",
    "i,j,k"
   ]
  },
  {
   "cell_type": "markdown",
   "id": "0af45f10",
   "metadata": {},
   "source": [
    "comprehension of a list"
   ]
  },
  {
   "cell_type": "code",
   "execution_count": 88,
   "id": "71df194f",
   "metadata": {},
   "outputs": [
    {
     "data": {
      "text/plain": [
       "[0, 1, 2, 3, 4, 5, 6, 7, 8, 9, 10, 11, 12, 13]"
      ]
     },
     "execution_count": 88,
     "metadata": {},
     "output_type": "execute_result"
    }
   ],
   "source": [
    "list_int3 = [i for i in range(0,14,1)]\n",
    "list_int3"
   ]
  },
  {
   "cell_type": "code",
   "execution_count": 93,
   "id": "06052c63",
   "metadata": {},
   "outputs": [
    {
     "data": {
      "text/plain": [
       "[0, 2, 4, 6, 8, 10, 12, 14, 16, 18]"
      ]
     },
     "execution_count": 93,
     "metadata": {},
     "output_type": "execute_result"
    }
   ],
   "source": [
    "list_int = [m for m in range(0,20,2)]\n",
    "list_int"
   ]
  },
  {
   "cell_type": "markdown",
   "id": "a563b918",
   "metadata": {},
   "source": [
    "***Tuples***"
   ]
  },
  {
   "cell_type": "markdown",
   "id": "5e4fad72",
   "metadata": {},
   "source": [
    "Tuples are a generalization of couples, triplets of values\n",
    "These are invariants ***we cannot change their value.***"
   ]
  },
  {
   "cell_type": "code",
   "execution_count": 95,
   "id": "76a741a0",
   "metadata": {},
   "outputs": [
    {
     "name": "stdout",
     "output_type": "stream",
     "text": [
      "(1, 2, 3)\n",
      "[1, 2, 3]\n"
     ]
    }
   ],
   "source": [
    "t_1 = (1,2,3)\n",
    "print(t_1)\n",
    "list_1 = [1,2,3]\n",
    "print(list_1)"
   ]
  },
  {
   "cell_type": "code",
   "execution_count": 96,
   "id": "ad27424d",
   "metadata": {},
   "outputs": [
    {
     "ename": "TypeError",
     "evalue": "'tuple' object does not support item assignment",
     "output_type": "error",
     "traceback": [
      "\u001b[1;31m---------------------------------------------------------------------------\u001b[0m",
      "\u001b[1;31mTypeError\u001b[0m                                 Traceback (most recent call last)",
      "Input \u001b[1;32mIn [96]\u001b[0m, in \u001b[0;36m<cell line: 1>\u001b[1;34m()\u001b[0m\n\u001b[1;32m----> 1\u001b[0m t_1[\u001b[38;5;241m1\u001b[39m] \u001b[38;5;241m=\u001b[39m \u001b[38;5;241m4\u001b[39m\n",
      "\u001b[1;31mTypeError\u001b[0m: 'tuple' object does not support item assignment"
     ]
    }
   ],
   "source": [
    "t_1[1] = 4 #make an error"
   ]
  },
  {
   "cell_type": "code",
   "execution_count": 97,
   "id": "7e86f57d",
   "metadata": {},
   "outputs": [
    {
     "name": "stdout",
     "output_type": "stream",
     "text": [
      "[1, 4, 3]\n"
     ]
    }
   ],
   "source": [
    "list_1[1] = 4\n",
    "print(list_1)"
   ]
  },
  {
   "cell_type": "markdown",
   "id": "5e5f0cfb",
   "metadata": {},
   "source": [
    "***Exceptions***"
   ]
  },
  {
   "cell_type": "markdown",
   "id": "d2a62f29",
   "metadata": {},
   "source": [
    "the proper way to handle on python"
   ]
  },
  {
   "cell_type": "code",
   "execution_count": 101,
   "id": "c563f8ce",
   "metadata": {},
   "outputs": [
    {
     "name": "stdout",
     "output_type": "stream",
     "text": [
      "Changing value in a tuple triggered exception= 'tuple' object does not support item assignment\n"
     ]
    }
   ],
   "source": [
    "try : \n",
    "    t_1[1]= 4\n",
    "    j = 1\n",
    "except TypeError as typeError :\n",
    "    print(\"Changing value in a tuple triggered exception= {}\".format(typeError))"
   ]
  },
  {
   "cell_type": "markdown",
   "id": "2591b1cc",
   "metadata": {},
   "source": [
    "Collection objects, like tuple, are used to return multiple values from a function "
   ]
  },
  {
   "cell_type": "markdown",
   "id": "68478575",
   "metadata": {},
   "source": [
    "In the example below, the function value is returned along with its input value."
   ]
  },
  {
   "cell_type": "code",
   "execution_count": 102,
   "id": "f1c3514a",
   "metadata": {},
   "outputs": [],
   "source": [
    "def affineTuple(x): #x is an integer\n",
    "    return x, 2*x+3"
   ]
  },
  {
   "cell_type": "code",
   "execution_count": 103,
   "id": "81dc3440",
   "metadata": {},
   "outputs": [
    {
     "data": {
      "text/plain": [
       "(2, 7)"
      ]
     },
     "execution_count": 103,
     "metadata": {},
     "output_type": "execute_result"
    }
   ],
   "source": [
    "affineTuple(2)"
   ]
  },
  {
   "cell_type": "markdown",
   "id": "17b996d8",
   "metadata": {},
   "source": [
    "***DICTIONARIES***"
   ]
  },
  {
   "cell_type": "markdown",
   "id": "824bca10",
   "metadata": {},
   "source": [
    "Dictinionaries represents structured data, like tables in a database."
   ]
  },
  {
   "cell_type": "markdown",
   "id": "a0d2c376",
   "metadata": {},
   "source": [
    "Initialization"
   ]
  },
  {
   "cell_type": "code",
   "execution_count": 126,
   "id": "80cc518e",
   "metadata": {},
   "outputs": [],
   "source": [
    "dict_1 = dict()\n",
    "dict_1 = {}"
   ]
  },
  {
   "cell_type": "markdown",
   "id": "689211aa",
   "metadata": {},
   "source": [
    "Structure : (key.value)"
   ]
  },
  {
   "cell_type": "markdown",
   "id": "dc4ded81",
   "metadata": {},
   "source": [
    "A key is matching a value"
   ]
  },
  {
   "cell_type": "markdown",
   "id": "df022100",
   "metadata": {},
   "source": [
    "dict_1[key] = value"
   ]
  },
  {
   "cell_type": "code",
   "execution_count": 127,
   "id": "e39c1ae1",
   "metadata": {},
   "outputs": [
    {
     "name": "stdout",
     "output_type": "stream",
     "text": [
      "{'firstname': 'Bob', 'lastname': 'Wallace'}\n"
     ]
    }
   ],
   "source": [
    "dict_1['firstname'] = 'Bob'\n",
    "dict_1['lastname'] = 'Wallace'\n",
    "print(dict_1)"
   ]
  },
  {
   "cell_type": "markdown",
   "id": "a69eecd8",
   "metadata": {},
   "source": [
    "List of dictionary leys"
   ]
  },
  {
   "cell_type": "code",
   "execution_count": 128,
   "id": "c9e7746e",
   "metadata": {},
   "outputs": [
    {
     "name": "stdout",
     "output_type": "stream",
     "text": [
      "dict_keys(['firstname', 'lastname'])\n"
     ]
    }
   ],
   "source": [
    "print(dict_1.keys())"
   ]
  },
  {
   "cell_type": "markdown",
   "id": "192e994a",
   "metadata": {},
   "source": [
    "Types of keys list : dict.keys"
   ]
  },
  {
   "cell_type": "code",
   "execution_count": 129,
   "id": "d4072d1a",
   "metadata": {},
   "outputs": [
    {
     "data": {
      "text/plain": [
       "dict_keys"
      ]
     },
     "execution_count": 129,
     "metadata": {},
     "output_type": "execute_result"
    }
   ],
   "source": [
    "type(dict_1.keys())"
   ]
  },
  {
   "cell_type": "markdown",
   "id": "846d3313",
   "metadata": {},
   "source": [
    "Casting (mapping) of keys list into the list type"
   ]
  },
  {
   "cell_type": "code",
   "execution_count": 130,
   "id": "953a6729",
   "metadata": {},
   "outputs": [
    {
     "data": {
      "text/plain": [
       "['firstname', 'lastname']"
      ]
     },
     "execution_count": 130,
     "metadata": {},
     "output_type": "execute_result"
    }
   ],
   "source": [
    "list(dict_1.keys())"
   ]
  },
  {
   "cell_type": "markdown",
   "id": "f9b27405",
   "metadata": {},
   "source": [
    "Values associated with a dictionnary"
   ]
  },
  {
   "cell_type": "markdown",
   "id": "ff6b75a5",
   "metadata": {},
   "source": [
    "Algebra over dictionaries"
   ]
  },
  {
   "cell_type": "code",
   "execution_count": 112,
   "id": "43037f06",
   "metadata": {},
   "outputs": [
    {
     "data": {
      "text/plain": [
       "True"
      ]
     },
     "execution_count": 112,
     "metadata": {},
     "output_type": "execute_result"
    }
   ],
   "source": [
    "'Bob' in dict_1.values()"
   ]
  },
  {
   "cell_type": "code",
   "execution_count": 113,
   "id": "60de1717",
   "metadata": {},
   "outputs": [
    {
     "data": {
      "text/plain": [
       "False"
      ]
     },
     "execution_count": 113,
     "metadata": {},
     "output_type": "execute_result"
    }
   ],
   "source": [
    "'name' in dict_1.keys()"
   ]
  },
  {
   "cell_type": "code",
   "execution_count": 115,
   "id": "442532c1",
   "metadata": {},
   "outputs": [
    {
     "ename": "KeyError",
     "evalue": "'name'",
     "output_type": "error",
     "traceback": [
      "\u001b[1;31m---------------------------------------------------------------------------\u001b[0m",
      "\u001b[1;31mKeyError\u001b[0m                                  Traceback (most recent call last)",
      "Input \u001b[1;32mIn [115]\u001b[0m, in \u001b[0;36m<cell line: 1>\u001b[1;34m()\u001b[0m\n\u001b[1;32m----> 1\u001b[0m \u001b[43mdict_1\u001b[49m\u001b[43m[\u001b[49m\u001b[38;5;124;43m'\u001b[39;49m\u001b[38;5;124;43mname\u001b[39;49m\u001b[38;5;124;43m'\u001b[39;49m\u001b[43m]\u001b[49m\n",
      "\u001b[1;31mKeyError\u001b[0m: 'name'"
     ]
    }
   ],
   "source": [
    "dict_1['name']"
   ]
  },
  {
   "cell_type": "code",
   "execution_count": 118,
   "id": "ca6b6a32",
   "metadata": {},
   "outputs": [
    {
     "data": {
      "text/plain": [
       "True"
      ]
     },
     "execution_count": 118,
     "metadata": {},
     "output_type": "execute_result"
    }
   ],
   "source": [
    "'firstname' in dict_1.keys()"
   ]
  },
  {
   "cell_type": "markdown",
   "id": "f42cd594",
   "metadata": {},
   "source": [
    "Retrieve keys and value items methods"
   ]
  },
  {
   "cell_type": "code",
   "execution_count": 120,
   "id": "95cff034",
   "metadata": {},
   "outputs": [
    {
     "data": {
      "text/plain": [
       "dict_items([('fistname', 'Bob'), ('lastname', 'Wallace'), ('firstname', 'Bob')])"
      ]
     },
     "execution_count": 120,
     "metadata": {},
     "output_type": "execute_result"
    }
   ],
   "source": [
    "dict_1.items()"
   ]
  },
  {
   "cell_type": "code",
   "execution_count": 131,
   "id": "4fae2ab2",
   "metadata": {},
   "outputs": [
    {
     "name": "stdout",
     "output_type": "stream",
     "text": [
      "key= firstname/ Values= Bob\n",
      "key= lastname/ Values= Wallace\n"
     ]
    }
   ],
   "source": [
    "for key, value in dict_1.items():\n",
    "    print(\"key= {}/ Values= {}\". format(key, value))"
   ]
  },
  {
   "cell_type": "code",
   "execution_count": 132,
   "id": "174320b1",
   "metadata": {},
   "outputs": [
    {
     "data": {
      "text/plain": [
       "'No Key'"
      ]
     },
     "execution_count": 132,
     "metadata": {},
     "output_type": "execute_result"
    }
   ],
   "source": [
    "dict_1.get('name','No Key')# Retorune -1 en cas d'absence de clé ou de valeur, sinon retourne clé présente"
   ]
  },
  {
   "cell_type": "code",
   "execution_count": 133,
   "id": "152ef0c4",
   "metadata": {},
   "outputs": [
    {
     "data": {
      "text/plain": [
       "'Bob'"
      ]
     },
     "execution_count": 133,
     "metadata": {},
     "output_type": "execute_result"
    }
   ],
   "source": [
    "dict_1.get('firstname', -1)# Retorune -1 en cas d'absence de clé ou de valeur, sinon retourne clé présente"
   ]
  },
  {
   "cell_type": "markdown",
   "id": "5cf38b2a",
   "metadata": {},
   "source": [
    "***COUNTERTYPE***"
   ]
  },
  {
   "cell_type": "markdown",
   "id": "38fc975c",
   "metadata": {},
   "source": [
    "A countertype maps a key for an occurence "
   ]
  },
  {
   "cell_type": "code",
   "execution_count": 137,
   "id": "d3586273",
   "metadata": {},
   "outputs": [
    {
     "name": "stdout",
     "output_type": "stream",
     "text": [
      "Counter({' ': 5, 'i': 3, 't': 3, 's': 3, 'l': 2, 'a': 2, 'u': 2, 'n': 2, 'e': 2, 'o': 2, 'é': 1, 'f': 1, 'd': 1, \"'\": 1})\n"
     ]
    }
   ],
   "source": [
    "from collections import Counter\n",
    "sentence = \"Il était une fois dans l'ouest\"\n",
    "\n",
    "counter_characters= Counter(sentence.lower())\n",
    "print(counter_characters)"
   ]
  },
  {
   "cell_type": "code",
   "execution_count": 140,
   "id": "5f559828",
   "metadata": {},
   "outputs": [
    {
     "name": "stdout",
     "output_type": "stream",
     "text": [
      "Counter({' ': 5, 'i': 3, 't': 3, 's': 3, 'l': 2, 'a': 2, 'u': 2, 'n': 2, 'e': 2, 'o': 2, 'é': 1, 'f': 1, 'd': 1, \"'\": 1})\n"
     ]
    }
   ],
   "source": [
    "import collections\n",
    "sentence = \"il était une fois dans l'ouest\"\n",
    "\n",
    "counter_characters = collections.Counter(sentence.lower())\n",
    "print(counter_characters)"
   ]
  },
  {
   "cell_type": "markdown",
   "id": "b8577684",
   "metadata": {},
   "source": [
    "***The SET TYPE***"
   ]
  },
  {
   "cell_type": "code",
   "execution_count": 141,
   "id": "a8f0be53",
   "metadata": {},
   "outputs": [],
   "source": [
    "#initialization"
   ]
  },
  {
   "cell_type": "code",
   "execution_count": 142,
   "id": "2bbc0100",
   "metadata": {},
   "outputs": [],
   "source": [
    "set_1 = set()"
   ]
  },
  {
   "cell_type": "code",
   "execution_count": 143,
   "id": "7a11e69c",
   "metadata": {},
   "outputs": [
    {
     "name": "stdout",
     "output_type": "stream",
     "text": [
      "{0, 1, 2}\n"
     ]
    }
   ],
   "source": [
    "set_1.add(0)\n",
    "set_1.add(1)\n",
    "set_1.add(2)\n",
    "set_1.add(2)#could be added twice\n",
    "print(set_1)"
   ]
  },
  {
   "cell_type": "code",
   "execution_count": 145,
   "id": "a657f671",
   "metadata": {},
   "outputs": [
    {
     "name": "stdout",
     "output_type": "stream",
     "text": [
      "{0, 1, 2}\n"
     ]
    }
   ],
   "source": [
    "list_1 = list()\n",
    "list_1.append(0)\n",
    "list_1.append(1)\n",
    "list_1.append(2)\n",
    "list_1.append(2)#could be added twice\n",
    "print(set_1)"
   ]
  },
  {
   "cell_type": "code",
   "execution_count": 146,
   "id": "fcd0167f",
   "metadata": {},
   "outputs": [
    {
     "data": {
      "text/plain": [
       "[0, 1, 2]"
      ]
     },
     "execution_count": 146,
     "metadata": {},
     "output_type": "execute_result"
    }
   ],
   "source": [
    "list(set(list_1))"
   ]
  },
  {
   "cell_type": "markdown",
   "id": "312f97ba",
   "metadata": {},
   "source": [
    "we can transform a set into a list"
   ]
  },
  {
   "cell_type": "markdown",
   "id": "4b1286f0",
   "metadata": {},
   "source": [
    "intersection and union of sets"
   ]
  },
  {
   "cell_type": "code",
   "execution_count": 147,
   "id": "265c83cc",
   "metadata": {},
   "outputs": [
    {
     "data": {
      "text/plain": [
       "{0, 1, 2}"
      ]
     },
     "execution_count": 147,
     "metadata": {},
     "output_type": "execute_result"
    }
   ],
   "source": [
    "set_1"
   ]
  },
  {
   "cell_type": "markdown",
   "id": "d0116145",
   "metadata": {},
   "source": [
    "***PROGRAMM FLOW***"
   ]
  },
  {
   "cell_type": "code",
   "execution_count": 149,
   "id": "6e05a385",
   "metadata": {},
   "outputs": [
    {
     "name": "stdout",
     "output_type": "stream",
     "text": [
      "1<2\n"
     ]
    }
   ],
   "source": [
    "if 1<2: \n",
    "    print(\"1<2\")\n",
    "elif 1==2:\n",
    "    print(\"1==2\")\n",
    "elif 1>=2:\n",
    "    print(\"1>=2\")\n",
    "else :\n",
    "    pass"
   ]
  },
  {
   "cell_type": "code",
   "execution_count": 150,
   "id": "bcbec3be",
   "metadata": {},
   "outputs": [
    {
     "name": "stdout",
     "output_type": "stream",
     "text": [
      "True\n"
     ]
    }
   ],
   "source": [
    "x = 4\n",
    "is_even = True if x%2 == 0 else False\n",
    "print(is_even)"
   ]
  },
  {
   "cell_type": "markdown",
   "id": "d7267bd7",
   "metadata": {},
   "source": [
    "while :loop until false"
   ]
  },
  {
   "cell_type": "code",
   "execution_count": 151,
   "id": "19334d1c",
   "metadata": {},
   "outputs": [
    {
     "name": "stdout",
     "output_type": "stream",
     "text": [
      "True\n"
     ]
    }
   ],
   "source": [
    "limit = 10\n",
    "idx = 0\n",
    "while idx < limit : \n",
    "    idx += 1\n",
    "print(idx == limit)"
   ]
  },
  {
   "cell_type": "code",
   "execution_count": 152,
   "id": "aa87bc74",
   "metadata": {},
   "outputs": [
    {
     "name": "stdout",
     "output_type": "stream",
     "text": [
      "False\n"
     ]
    }
   ],
   "source": [
    "for idx in range(0, limit, 1):\n",
    "    pass\n",
    "print(idx == limit)"
   ]
  },
  {
   "cell_type": "markdown",
   "id": "0c6e5663",
   "metadata": {},
   "source": [
    "***BOOLEANS***"
   ]
  },
  {
   "cell_type": "code",
   "execution_count": 153,
   "id": "e17cf43a",
   "metadata": {},
   "outputs": [
    {
     "data": {
      "text/plain": [
       "True"
      ]
     },
     "execution_count": 153,
     "metadata": {},
     "output_type": "execute_result"
    }
   ],
   "source": [
    "(1 == 1)"
   ]
  },
  {
   "cell_type": "code",
   "execution_count": 154,
   "id": "d3f9a5ad",
   "metadata": {},
   "outputs": [
    {
     "data": {
      "text/plain": [
       "False"
      ]
     },
     "execution_count": 154,
     "metadata": {},
     "output_type": "execute_result"
    }
   ],
   "source": [
    "(2 != 1) is False"
   ]
  },
  {
   "cell_type": "code",
   "execution_count": 156,
   "id": "9539254d",
   "metadata": {},
   "outputs": [
    {
     "name": "stdout",
     "output_type": "stream",
     "text": [
      "True\n",
      "True\n",
      "True\n",
      "False\n"
     ]
    }
   ],
   "source": [
    "list_bool = [True,1, {3}]\n",
    "print(all(list_bool))\n",
    "\n",
    "List_bool = [False, 1, {3}]\n",
    "print(all(list_bool))\n",
    "\n",
    "list_bool = [False,[], {3}, None]\n",
    "print(any(list_bool))\n",
    "\n",
    "list_bool = [False, list(), dict(), None, set()]\n",
    "print(any(list_bool))"
   ]
  },
  {
   "cell_type": "code",
   "execution_count": 157,
   "id": "4fe582e7",
   "metadata": {},
   "outputs": [],
   "source": [
    "import typing"
   ]
  },
  {
   "cell_type": "code",
   "execution_count": 158,
   "id": "6f960a06",
   "metadata": {},
   "outputs": [
    {
     "data": {
      "text/plain": [
       "['ABCMeta',\n",
       " 'AbstractSet',\n",
       " 'Annotated',\n",
       " 'Any',\n",
       " 'AnyStr',\n",
       " 'AsyncContextManager',\n",
       " 'AsyncGenerator',\n",
       " 'AsyncIterable',\n",
       " 'AsyncIterator',\n",
       " 'Awaitable',\n",
       " 'BinaryIO',\n",
       " 'ByteString',\n",
       " 'CT_co',\n",
       " 'Callable',\n",
       " 'ChainMap',\n",
       " 'ClassVar',\n",
       " 'Collection',\n",
       " 'Container',\n",
       " 'ContextManager',\n",
       " 'Coroutine',\n",
       " 'Counter',\n",
       " 'DefaultDict',\n",
       " 'Deque',\n",
       " 'Dict',\n",
       " 'EXCLUDED_ATTRIBUTES',\n",
       " 'Final',\n",
       " 'ForwardRef',\n",
       " 'FrozenSet',\n",
       " 'Generator',\n",
       " 'Generic',\n",
       " 'GenericAlias',\n",
       " 'Hashable',\n",
       " 'IO',\n",
       " 'ItemsView',\n",
       " 'Iterable',\n",
       " 'Iterator',\n",
       " 'KT',\n",
       " 'KeysView',\n",
       " 'List',\n",
       " 'Literal',\n",
       " 'Mapping',\n",
       " 'MappingView',\n",
       " 'Match',\n",
       " 'MethodDescriptorType',\n",
       " 'MethodWrapperType',\n",
       " 'MutableMapping',\n",
       " 'MutableSequence',\n",
       " 'MutableSet',\n",
       " 'NamedTuple',\n",
       " 'NamedTupleMeta',\n",
       " 'NewType',\n",
       " 'NoReturn',\n",
       " 'Optional',\n",
       " 'OrderedDict',\n",
       " 'Pattern',\n",
       " 'Protocol',\n",
       " 'Reversible',\n",
       " 'Sequence',\n",
       " 'Set',\n",
       " 'Sized',\n",
       " 'SupportsAbs',\n",
       " 'SupportsBytes',\n",
       " 'SupportsComplex',\n",
       " 'SupportsFloat',\n",
       " 'SupportsIndex',\n",
       " 'SupportsInt',\n",
       " 'SupportsRound',\n",
       " 'T',\n",
       " 'TYPE_CHECKING',\n",
       " 'T_co',\n",
       " 'T_contra',\n",
       " 'Text',\n",
       " 'TextIO',\n",
       " 'Tuple',\n",
       " 'Type',\n",
       " 'TypeVar',\n",
       " 'TypedDict',\n",
       " 'Union',\n",
       " 'VT',\n",
       " 'VT_co',\n",
       " 'V_co',\n",
       " 'ValuesView',\n",
       " 'WrapperDescriptorType',\n",
       " '_AnnotatedAlias',\n",
       " '_BaseGenericAlias',\n",
       " '_CallableGenericAlias',\n",
       " '_CallableType',\n",
       " '_Final',\n",
       " '_GenericAlias',\n",
       " '_Immutable',\n",
       " '_LiteralGenericAlias',\n",
       " '_LiteralSpecialForm',\n",
       " '_NamedTuple',\n",
       " '_PROTO_WHITELIST',\n",
       " '_ProtocolMeta',\n",
       " '_SPECIAL_NAMES',\n",
       " '_SpecialForm',\n",
       " '_SpecialGenericAlias',\n",
       " '_TYPING_INTERNALS',\n",
       " '_TupleType',\n",
       " '_TypedDict',\n",
       " '_TypedDictMeta',\n",
       " '_TypingEllipsis',\n",
       " '_TypingEmpty',\n",
       " '_UnionGenericAlias',\n",
       " '__all__',\n",
       " '__builtins__',\n",
       " '__cached__',\n",
       " '__doc__',\n",
       " '__file__',\n",
       " '__loader__',\n",
       " '__name__',\n",
       " '__package__',\n",
       " '__spec__',\n",
       " '_alias',\n",
       " '_allow_reckless_class_cheks',\n",
       " '_allowed_types',\n",
       " '_check_generic',\n",
       " '_cleanups',\n",
       " '_collect_type_vars',\n",
       " '_deduplicate',\n",
       " '_eval_type',\n",
       " '_flatten_literal_params',\n",
       " '_get_defaults',\n",
       " '_get_protocol_attrs',\n",
       " '_is_callable_members_only',\n",
       " '_is_dunder',\n",
       " '_make_nmtuple',\n",
       " '_namedtuple_mro_entries',\n",
       " '_no_init_or_replace_init',\n",
       " '_overload_dummy',\n",
       " '_prohibited',\n",
       " '_remove_dups_flatten',\n",
       " '_special',\n",
       " '_strip_annotations',\n",
       " '_tp_cache',\n",
       " '_type_check',\n",
       " '_type_convert',\n",
       " '_type_repr',\n",
       " '_value_and_type_iter',\n",
       " 'abstractmethod',\n",
       " 'cast',\n",
       " 'collections',\n",
       " 'contextlib',\n",
       " 'final',\n",
       " 'functools',\n",
       " 'get_args',\n",
       " 'get_origin',\n",
       " 'get_type_hints',\n",
       " 'io',\n",
       " 'no_type_check',\n",
       " 'no_type_check_decorator',\n",
       " 'operator',\n",
       " 'overload',\n",
       " 're',\n",
       " 'runtime_checkable',\n",
       " 'stdlib_re',\n",
       " 'sys',\n",
       " 'types']"
      ]
     },
     "execution_count": 158,
     "metadata": {},
     "output_type": "execute_result"
    }
   ],
   "source": [
    "dir(typing)"
   ]
  },
  {
   "cell_type": "code",
   "execution_count": 159,
   "id": "3f0a4a52",
   "metadata": {},
   "outputs": [],
   "source": [
    "#Annotations are useful and necessary to make a cleaner code."
   ]
  },
  {
   "cell_type": "markdown",
   "id": "9c4b3843",
   "metadata": {},
   "source": [
    "***EXERCICE 1***"
   ]
  },
  {
   "cell_type": "code",
   "execution_count": 168,
   "id": "b58cdf5b",
   "metadata": {},
   "outputs": [],
   "source": [
    "import typing\n",
    "def add_one(x:int) -> float:\n",
    "    '''This function increments input value with 1.\n",
    "    '''\n",
    "    return x+1."
   ]
  },
  {
   "cell_type": "code",
   "execution_count": 169,
   "id": "e3c65e1e",
   "metadata": {},
   "outputs": [],
   "source": [
    "def affine2(x:float, alfa=2., beta=3.)-> float :\n",
    "    return alfa*x+beta"
   ]
  },
  {
   "cell_type": "code",
   "execution_count": 170,
   "id": "18f9080e",
   "metadata": {},
   "outputs": [],
   "source": [
    "def apply_one_func_arg(func) -> float:# func is a function\n",
    "    return add_one(func(2))"
   ]
  },
  {
   "cell_type": "code",
   "execution_count": null,
   "id": "8049e7ca",
   "metadata": {},
   "outputs": [],
   "source": [
    "def affine1(x:float) -> float :# x in float\n",
    "    return 2*x+3"
   ]
  },
  {
   "cell_type": "code",
   "execution_count": null,
   "id": "7cbdc078",
   "metadata": {},
   "outputs": [],
   "source": [
    "def apply_one(func) -> float: \n",
    "    return add_one(func(2))"
   ]
  },
  {
   "cell_type": "code",
   "execution_count": 165,
   "id": "b6dfb349",
   "metadata": {},
   "outputs": [],
   "source": [
    "def affineTuple(x:int) -> tuple : \n",
    "    return x, 2*x+3"
   ]
  },
  {
   "cell_type": "code",
   "execution_count": 205,
   "id": "f9c6e740",
   "metadata": {},
   "outputs": [],
   "source": [
    "def hello(message :str, count:int) ->str:\n",
    "    hello_message = \"Hello {} with number={}\".format(message, count)\n",
    "    return hello_message\n",
    "msg = \"We made it\""
   ]
  },
  {
   "cell_type": "code",
   "execution_count": 173,
   "id": "c359bef6",
   "metadata": {},
   "outputs": [],
   "source": [
    "def smallest_item(list_item:list) -> list :\n",
    "    return sorted(list_item)[0]"
   ]
  },
  {
   "cell_type": "markdown",
   "id": "59bf7eb7",
   "metadata": {},
   "source": [
    "**Calling all the functions**"
   ]
  },
  {
   "cell_type": "code",
   "execution_count": 208,
   "id": "0219675d",
   "metadata": {},
   "outputs": [
    {
     "name": "stdout",
     "output_type": "stream",
     "text": [
      "2.0\n",
      "13.0\n",
      "5.0\n",
      "13\n",
      "5.0\n",
      "(4, 11)\n",
      "Hello We made it with number=10\n"
     ]
    }
   ],
   "source": [
    "print(add_one(1)) #Add_one\n",
    "print(affine2(5)) #Affine2\n",
    "print(apply_one_func_arg(fonc_as_arg)) #Apply_one_func_arg\n",
    "print(affine1(5)) #Affine1\n",
    "print(apply_one(fonc_as_arg)) #Apply_one\n",
    "\n",
    "print(affineTuple(4)) #affineTuple\n",
    "print(hello(msg, len(msg))) #Hellofunction"
   ]
  },
  {
   "cell_type": "code",
   "execution_count": 209,
   "id": "ca15468d",
   "metadata": {},
   "outputs": [],
   "source": [
    "list_1 = [i for i in range (-5, 5, 1)]"
   ]
  },
  {
   "cell_type": "code",
   "execution_count": 210,
   "id": "7a159be4",
   "metadata": {},
   "outputs": [
    {
     "name": "stdout",
     "output_type": "stream",
     "text": [
      "-5\n"
     ]
    }
   ],
   "source": [
    "print(smallest_item(list_1))"
   ]
  },
  {
   "cell_type": "markdown",
   "id": "392fd3c5",
   "metadata": {},
   "source": [
    "**Exercice 2**"
   ]
  },
  {
   "cell_type": "code",
   "execution_count": 245,
   "id": "17664dd1",
   "metadata": {},
   "outputs": [
    {
     "name": "stdout",
     "output_type": "stream",
     "text": [
      "-5\n"
     ]
    }
   ],
   "source": [
    "def smallest_item_with_assert(list_item : list) :\n",
    "    try:\n",
    "        assert list_item, \"*** WARNING : Empty list is not accepted !\"\n",
    "        return sorted(list_item)[0]\n",
    "    except Exception as e:\n",
    "        return \"*** WARNING : Empty list is not accepted !\"\n",
    "\n",
    "print(smallest_item_with_assert(list_1))"
   ]
  },
  {
   "cell_type": "code",
   "execution_count": 246,
   "id": "dfe72da7",
   "metadata": {},
   "outputs": [],
   "source": [
    "list_empty = []"
   ]
  },
  {
   "cell_type": "code",
   "execution_count": 247,
   "id": "25891f02",
   "metadata": {},
   "outputs": [
    {
     "name": "stdout",
     "output_type": "stream",
     "text": [
      "[]\n"
     ]
    }
   ],
   "source": [
    "print(list_empty)"
   ]
  },
  {
   "cell_type": "code",
   "execution_count": 248,
   "id": "8a768459",
   "metadata": {},
   "outputs": [
    {
     "data": {
      "text/plain": [
       "0"
      ]
     },
     "execution_count": 248,
     "metadata": {},
     "output_type": "execute_result"
    }
   ],
   "source": [
    "len(list_empty)"
   ]
  },
  {
   "cell_type": "code",
   "execution_count": 249,
   "id": "0f38d298",
   "metadata": {
    "scrolled": true
   },
   "outputs": [
    {
     "name": "stdout",
     "output_type": "stream",
     "text": [
      "*** WARNING : Empty list is not accepted !\n"
     ]
    }
   ],
   "source": [
    "print(smallest_item_with_assert(list_empty))"
   ]
  },
  {
   "cell_type": "code",
   "execution_count": null,
   "id": "93b613f0",
   "metadata": {},
   "outputs": [],
   "source": []
  },
  {
   "cell_type": "code",
   "execution_count": null,
   "id": "3553feff",
   "metadata": {},
   "outputs": [],
   "source": []
  }
 ],
 "metadata": {
  "kernelspec": {
   "display_name": "Python 3 (ipykernel)",
   "language": "python",
   "name": "python3"
  },
  "language_info": {
   "codemirror_mode": {
    "name": "ipython",
    "version": 3
   },
   "file_extension": ".py",
   "mimetype": "text/x-python",
   "name": "python",
   "nbconvert_exporter": "python",
   "pygments_lexer": "ipython3",
   "version": "3.9.12"
  }
 },
 "nbformat": 4,
 "nbformat_minor": 5
}
